{
 "cells": [
  {
   "cell_type": "code",
   "execution_count": 2,
   "metadata": {},
   "outputs": [],
   "source": [
    "import pandas as pd\n",
    "import matplotlib.pyplot as plt"
   ]
  },
  {
   "cell_type": "code",
   "execution_count": 3,
   "metadata": {},
   "outputs": [],
   "source": [
    "df = pd.read_excel(\"lana dataset.xlsx\")"
   ]
  },
  {
   "cell_type": "code",
   "execution_count": 4,
   "metadata": {},
   "outputs": [
    {
     "data": {
      "text/html": [
       "<div>\n",
       "<style scoped>\n",
       "    .dataframe tbody tr th:only-of-type {\n",
       "        vertical-align: middle;\n",
       "    }\n",
       "\n",
       "    .dataframe tbody tr th {\n",
       "        vertical-align: top;\n",
       "    }\n",
       "\n",
       "    .dataframe thead th {\n",
       "        text-align: right;\n",
       "    }\n",
       "</style>\n",
       "<table border=\"1\" class=\"dataframe\">\n",
       "  <thead>\n",
       "    <tr style=\"text-align: right;\">\n",
       "      <th></th>\n",
       "      <th>Customer ID</th>\n",
       "      <th>Age</th>\n",
       "      <th>Age Group</th>\n",
       "      <th>Postcode</th>\n",
       "      <th>Gender</th>\n",
       "      <th>Favourite Cookie</th>\n",
       "      <th>Cookies bought each week</th>\n",
       "    </tr>\n",
       "  </thead>\n",
       "  <tbody>\n",
       "    <tr>\n",
       "      <th>0</th>\n",
       "      <td>1001</td>\n",
       "      <td>60</td>\n",
       "      <td>60-69</td>\n",
       "      <td>2000</td>\n",
       "      <td>M</td>\n",
       "      <td>Choc chip</td>\n",
       "      <td>1</td>\n",
       "    </tr>\n",
       "    <tr>\n",
       "      <th>1</th>\n",
       "      <td>1002</td>\n",
       "      <td>53</td>\n",
       "      <td>50-59</td>\n",
       "      <td>2010</td>\n",
       "      <td>M</td>\n",
       "      <td>Choc chip</td>\n",
       "      <td>1</td>\n",
       "    </tr>\n",
       "    <tr>\n",
       "      <th>2</th>\n",
       "      <td>1003</td>\n",
       "      <td>22</td>\n",
       "      <td>20-29</td>\n",
       "      <td>2010</td>\n",
       "      <td>F</td>\n",
       "      <td>Choc chip</td>\n",
       "      <td>2</td>\n",
       "    </tr>\n",
       "    <tr>\n",
       "      <th>3</th>\n",
       "      <td>1004</td>\n",
       "      <td>30</td>\n",
       "      <td>30-39</td>\n",
       "      <td>2010</td>\n",
       "      <td>F</td>\n",
       "      <td>Choc chip</td>\n",
       "      <td>6</td>\n",
       "    </tr>\n",
       "    <tr>\n",
       "      <th>4</th>\n",
       "      <td>1005</td>\n",
       "      <td>52</td>\n",
       "      <td>50-59</td>\n",
       "      <td>2010</td>\n",
       "      <td>F</td>\n",
       "      <td>Macadamia</td>\n",
       "      <td>3</td>\n",
       "    </tr>\n",
       "  </tbody>\n",
       "</table>\n",
       "</div>"
      ],
      "text/plain": [
       "   Customer ID  Age Age Group  Postcode Gender Favourite Cookie  \\\n",
       "0         1001   60     60-69      2000      M        Choc chip   \n",
       "1         1002   53     50-59      2010      M        Choc chip   \n",
       "2         1003   22     20-29      2010      F        Choc chip   \n",
       "3         1004   30     30-39      2010      F        Choc chip   \n",
       "4         1005   52     50-59      2010      F        Macadamia   \n",
       "\n",
       "   Cookies bought each week  \n",
       "0                         1  \n",
       "1                         1  \n",
       "2                         2  \n",
       "3                         6  \n",
       "4                         3  "
      ]
     },
     "execution_count": 4,
     "metadata": {},
     "output_type": "execute_result"
    }
   ],
   "source": [
    "df.head()"
   ]
  },
  {
   "cell_type": "code",
   "execution_count": 5,
   "metadata": {},
   "outputs": [
    {
     "data": {
      "text/html": [
       "<div>\n",
       "<style scoped>\n",
       "    .dataframe tbody tr th:only-of-type {\n",
       "        vertical-align: middle;\n",
       "    }\n",
       "\n",
       "    .dataframe tbody tr th {\n",
       "        vertical-align: top;\n",
       "    }\n",
       "\n",
       "    .dataframe thead th {\n",
       "        text-align: right;\n",
       "    }\n",
       "</style>\n",
       "<table border=\"1\" class=\"dataframe\">\n",
       "  <thead>\n",
       "    <tr style=\"text-align: right;\">\n",
       "      <th></th>\n",
       "      <th>Customer ID</th>\n",
       "      <th>Age</th>\n",
       "      <th>Postcode</th>\n",
       "      <th>Cookies bought each week</th>\n",
       "    </tr>\n",
       "  </thead>\n",
       "  <tbody>\n",
       "    <tr>\n",
       "      <th>count</th>\n",
       "      <td>46.000000</td>\n",
       "      <td>46.000000</td>\n",
       "      <td>46.000000</td>\n",
       "      <td>46.000000</td>\n",
       "    </tr>\n",
       "    <tr>\n",
       "      <th>mean</th>\n",
       "      <td>1023.500000</td>\n",
       "      <td>34.173913</td>\n",
       "      <td>2136.217391</td>\n",
       "      <td>3.978261</td>\n",
       "    </tr>\n",
       "    <tr>\n",
       "      <th>std</th>\n",
       "      <td>13.422618</td>\n",
       "      <td>16.189577</td>\n",
       "      <td>204.315433</td>\n",
       "      <td>3.666601</td>\n",
       "    </tr>\n",
       "    <tr>\n",
       "      <th>min</th>\n",
       "      <td>1001.000000</td>\n",
       "      <td>12.000000</td>\n",
       "      <td>2000.000000</td>\n",
       "      <td>1.000000</td>\n",
       "    </tr>\n",
       "    <tr>\n",
       "      <th>25%</th>\n",
       "      <td>1012.250000</td>\n",
       "      <td>20.250000</td>\n",
       "      <td>2000.000000</td>\n",
       "      <td>1.250000</td>\n",
       "    </tr>\n",
       "    <tr>\n",
       "      <th>50%</th>\n",
       "      <td>1023.500000</td>\n",
       "      <td>31.500000</td>\n",
       "      <td>2014.500000</td>\n",
       "      <td>3.000000</td>\n",
       "    </tr>\n",
       "    <tr>\n",
       "      <th>75%</th>\n",
       "      <td>1034.750000</td>\n",
       "      <td>44.750000</td>\n",
       "      <td>2296.250000</td>\n",
       "      <td>5.750000</td>\n",
       "    </tr>\n",
       "    <tr>\n",
       "      <th>max</th>\n",
       "      <td>1046.000000</td>\n",
       "      <td>68.000000</td>\n",
       "      <td>2873.000000</td>\n",
       "      <td>20.000000</td>\n",
       "    </tr>\n",
       "  </tbody>\n",
       "</table>\n",
       "</div>"
      ],
      "text/plain": [
       "       Customer ID        Age     Postcode  Cookies bought each week\n",
       "count    46.000000  46.000000    46.000000                 46.000000\n",
       "mean   1023.500000  34.173913  2136.217391                  3.978261\n",
       "std      13.422618  16.189577   204.315433                  3.666601\n",
       "min    1001.000000  12.000000  2000.000000                  1.000000\n",
       "25%    1012.250000  20.250000  2000.000000                  1.250000\n",
       "50%    1023.500000  31.500000  2014.500000                  3.000000\n",
       "75%    1034.750000  44.750000  2296.250000                  5.750000\n",
       "max    1046.000000  68.000000  2873.000000                 20.000000"
      ]
     },
     "execution_count": 5,
     "metadata": {},
     "output_type": "execute_result"
    }
   ],
   "source": [
    "df.describe()"
   ]
  },
  {
   "cell_type": "code",
   "execution_count": 8,
   "metadata": {},
   "outputs": [
    {
     "data": {
      "text/plain": [
       "Index(['Customer ID', 'Age', 'Age Group', 'Postcode', 'Gender',\n",
       "       'Favourite Cookie', 'Cookies bought each week'],\n",
       "      dtype='object')"
      ]
     },
     "execution_count": 8,
     "metadata": {},
     "output_type": "execute_result"
    }
   ],
   "source": [
    "df.columns"
   ]
  },
  {
   "cell_type": "code",
   "execution_count": 11,
   "metadata": {},
   "outputs": [
    {
     "data": {
      "text/plain": [
       "Customer ID                 0\n",
       "Age                         0\n",
       "Age Group                   0\n",
       "Postcode                    0\n",
       "Gender                      0\n",
       "Favourite Cookie            0\n",
       "Cookies bought each week    0\n",
       "dtype: int64"
      ]
     },
     "execution_count": 11,
     "metadata": {},
     "output_type": "execute_result"
    }
   ],
   "source": [
    "df.isnull().sum()"
   ]
  },
  {
   "cell_type": "code",
   "execution_count": 12,
   "metadata": {},
   "outputs": [
    {
     "data": {
      "text/plain": [
       "(46, 7)"
      ]
     },
     "execution_count": 12,
     "metadata": {},
     "output_type": "execute_result"
    }
   ],
   "source": [
    "df.shape"
   ]
  },
  {
   "cell_type": "code",
   "execution_count": null,
   "metadata": {},
   "outputs": [],
   "source": []
  }
 ],
 "metadata": {
  "kernelspec": {
   "display_name": "Python 3",
   "language": "python",
   "name": "python3"
  },
  "language_info": {
   "codemirror_mode": {
    "name": "ipython",
    "version": 3
   },
   "file_extension": ".py",
   "mimetype": "text/x-python",
   "name": "python",
   "nbconvert_exporter": "python",
   "pygments_lexer": "ipython3",
   "version": "3.6.4"
  }
 },
 "nbformat": 4,
 "nbformat_minor": 2
}
